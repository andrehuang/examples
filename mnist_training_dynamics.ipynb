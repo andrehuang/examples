{
  "nbformat": 4,
  "nbformat_minor": 0,
  "metadata": {
    "colab": {
      "name": "mnist_training_dynamics.ipynb",
      "provenance": [],
      "collapsed_sections": [],
      "mount_file_id": "1FF38B-5TO4Df5h-MJ4z-c3BxHn4N7lX8",
      "authorship_tag": "ABX9TyPetgT9uQANJ38HnozQmGRd",
      "include_colab_link": true
    },
    "kernelspec": {
      "name": "python3",
      "display_name": "Python 3"
    },
    "accelerator": "GPU"
  },
  "cells": [
    {
      "cell_type": "markdown",
      "metadata": {
        "id": "view-in-github",
        "colab_type": "text"
      },
      "source": [
        "<a href=\"https://colab.research.google.com/github/andrehuang/examples/blob/mnist/mnist_training_dynamics.ipynb\" target=\"_parent\"><img src=\"https://colab.research.google.com/assets/colab-badge.svg\" alt=\"Open In Colab\"/></a>"
      ]
    },
    {
      "cell_type": "code",
      "metadata": {
        "id": "IJEqETzMdts3"
      },
      "source": [
        "from __future__ import print_function\n",
        "import argparse\n",
        "import torch\n",
        "import torch.nn as nn\n",
        "import torch.nn.functional as F\n",
        "import torch.optim as optim\n",
        "from torchvision import datasets, transforms\n",
        "from torch.optim.lr_scheduler import StepLR\n",
        "import matplotlib.pyplot as plt\n"
      ],
      "execution_count": null,
      "outputs": []
    },
    {
      "cell_type": "code",
      "metadata": {
        "id": "N6YFnOiTiu1X"
      },
      "source": [
        "import seaborn as sns\n",
        "sns.set()"
      ],
      "execution_count": 137,
      "outputs": []
    },
    {
      "cell_type": "code",
      "metadata": {
        "id": "MXpL_xAEd39I"
      },
      "source": [
        "class Net(nn.Module):\n",
        "    def __init__(self):\n",
        "        super(Net, self).__init__()\n",
        "        self.conv1 = nn.Conv2d(1, 32, 3, 1)\n",
        "        self.conv2 = nn.Conv2d(32, 64, 3, 1)\n",
        "        self.dropout1 = nn.Dropout(0.25)\n",
        "        self.dropout2 = nn.Dropout(0.5)\n",
        "        self.fc1 = nn.Linear(9216, 128)\n",
        "        self.fc2 = nn.Linear(128, 10)\n",
        "\n",
        "    def forward(self, x):\n",
        "        x = self.conv1(x)\n",
        "        x = F.relu(x)\n",
        "        x = self.conv2(x)\n",
        "        x = F.relu(x)\n",
        "        x = F.max_pool2d(x, 2)\n",
        "        x = self.dropout1(x)\n",
        "        x = torch.flatten(x, 1)\n",
        "        x = self.fc1(x)\n",
        "        x = F.relu(x)\n",
        "        x = self.dropout2(x)\n",
        "        x = self.fc2(x)\n",
        "        output = x # for cross entropy loss \n",
        "        # output = F.log_softmax(x, dim=1) # for nll loss\n",
        "        return output\n",
        "      \n",
        "\n",
        "    def feature_list(self, x):\n",
        "        out_list = []\n",
        "        out = F.relu(self.conv1(x))\n",
        "        out_list.append(out.contiguous().view(out.size(0), -1))\n",
        "        out = F.relu(self.conv2(out))\n",
        "        out_list.append(out.contiguous().view(out.size(0), -1))\n",
        "        out = F.max_pool2d(out, 2)\n",
        "        out = torch.flatten(out, 1)\n",
        "        out = F.relu(self.fc1(out))\n",
        "        out_list.append(out.contiguous().view(out.size(0), -1))\n",
        "        out = self.fc2(out)\n",
        "        out_list.append(out.contiguous().view(out.size(0), -1))\n",
        "        # y = F.softmax(out, dim=1)\n",
        "        return out_list\n",
        "    \n",
        "    def mean_feat_list(self, x):\n",
        "        out_list = []\n",
        "        out = F.relu(self.conv1(x))\n",
        "        out_list.append(out.contiguous().view(out.size(0), -1).mean(dim=0, keepdim=True))\n",
        "        out = F.relu(self.conv2(out))\n",
        "        out_list.append(out.contiguous().view(out.size(0), -1).mean(dim=0, keepdim=True))\n",
        "        out = F.max_pool2d(out, 2)\n",
        "        out = torch.flatten(out, 1)\n",
        "        out = F.relu(self.fc1(out))\n",
        "        out_list.append(out.contiguous().view(out.size(0), -1).mean(dim=0, keepdim=True))\n",
        "        out = self.fc2(out)\n",
        "        out_list.append(out.contiguous().view(out.size(0), -1).mean(dim=0, keepdim=True))\n",
        "        return out_list\n",
        "\n",
        "    # function to extact a specific feature\n",
        "    def intermediate_forward(self, x, layer_index):\n",
        "        x = self.conv1(x)\n",
        "        out = F.relu(x)\n",
        "        if layer_index == 1:\n",
        "            out = F.relu(self.conv2(out))\n",
        "        elif layer_index == 2:\n",
        "            out = F.relu(self.conv2(out))\n",
        "            out = F.max_pool2d(out, 2)\n",
        "            out = torch.flatten(out, 1)\n",
        "            out = F.relu(self.fc1(out))\n",
        "        elif layer_index == 3:\n",
        "            out = F.relu(self.conv2(out))\n",
        "            out = F.max_pool2d(out, 2)\n",
        "            out = torch.flatten(out, 1)\n",
        "            out = F.relu(self.fc1(out))\n",
        "            out = self.fc2(out) \n",
        "        return out\n",
        "\n",
        "\n",
        "def train(args, model, device, train_loader, optimizer, epoch):\n",
        "    model.train()\n",
        "    for batch_idx, (data, target) in enumerate(train_loader):\n",
        "        data, target = data.to(device), target.to(device)\n",
        "        optimizer.zero_grad()\n",
        "        output = model(data)\n",
        "        loss = F.cross_entropy(output, target)\n",
        "        loss.backward()\n",
        "        optimizer.step()\n",
        "        if batch_idx % args['log_interval'] == 0:\n",
        "            print('Train Epoch: {} [{}/{} ({:.0f}%)]\\tLoss: {:.6f}'.format(\n",
        "                epoch, batch_idx * len(data), len(train_loader.dataset),\n",
        "                100. * batch_idx / len(train_loader), loss.item()))\n",
        "            torch.save(model.state_dict(), f\"./models/mnist_cnn_step{batch_idx}.pth\")\n",
        "\n",
        "\n",
        "\n",
        "def test(model, device, test_loader):\n",
        "    model.eval()\n",
        "    test_loss = 0\n",
        "    correct = 0\n",
        "    with torch.no_grad():\n",
        "        for data, target in test_loader:\n",
        "            data, target = data.to(device), target.to(device)\n",
        "            output = model(data)\n",
        "            test_loss += F.cross_entropy(output, target, reduction='sum').item()  # sum up batch loss\n",
        "            pred = output.argmax(dim=1, keepdim=True)  # get the index of the max log-probability\n",
        "            correct += pred.eq(target.view_as(pred)).sum().item()\n",
        "\n",
        "    test_loss /= len(test_loader.dataset)\n",
        "\n",
        "    print('\\nTest set: Average loss: {:.4f}, Accuracy: {}/{} ({:.0f}%)\\n'.format(\n",
        "        test_loss, correct, len(test_loader.dataset),\n",
        "        100. * correct / len(test_loader.dataset)))"
      ],
      "execution_count": 418,
      "outputs": []
    },
    {
      "cell_type": "code",
      "metadata": {
        "id": "90MwV4TTd-lE"
      },
      "source": [
        "args = {}\n",
        "args['batch_size']=64\n",
        "args['test_batch_size']=1000\n",
        "args['epochs']=14  #The number of Epochs is the number of times you go through the full dataset. \n",
        "args['lr']=1.0 #Learning rate is how fast it will decend. \n",
        "args['gamma']=0.7 \n",
        "\n",
        "args['seed']=1 #random seed\n",
        "args['log_interval']=50\n",
        "args['cuda']=True\n",
        "args['save-model'] = False"
      ],
      "execution_count": 419,
      "outputs": []
    },
    {
      "cell_type": "code",
      "metadata": {
        "id": "K9uY4juLeKzx"
      },
      "source": [
        "use_cuda = args['cuda']\n",
        "torch.manual_seed(args['seed'])\n",
        "device = torch.device(\"cuda\" if use_cuda else \"cpu\")"
      ],
      "execution_count": 420,
      "outputs": []
    },
    {
      "cell_type": "code",
      "metadata": {
        "id": "YBdtoPSveugA"
      },
      "source": [
        "train_kwargs = {'batch_size': args['batch_size']}\n",
        "test_kwargs = {'batch_size': args['test_batch_size']}\n",
        "transform=transforms.Compose([\n",
        "        transforms.ToTensor(),\n",
        "        transforms.Normalize((0.1307,), (0.3081,))\n",
        "        ])"
      ],
      "execution_count": 421,
      "outputs": []
    },
    {
      "cell_type": "code",
      "metadata": {
        "id": "VJ1VZRfge7aE"
      },
      "source": [
        "dataset1 = datasets.MNIST('../data', train=True, download=True,\n",
        "                       transform=transform)\n",
        "dataset2 = datasets.MNIST('../data', train=False,\n",
        "                       transform=transform)\n",
        "dataset3 = datasets.FashionMNIST('../data', train=False, download=True,\n",
        "                       transform=transform)"
      ],
      "execution_count": 422,
      "outputs": []
    },
    {
      "cell_type": "code",
      "metadata": {
        "id": "SIb6xv6yi-OR",
        "outputId": "9fb1eca3-4249-418e-9b20-6f92a118a138",
        "colab": {
          "base_uri": "https://localhost:8080/"
        }
      },
      "source": [
        "dataset3.data.shape"
      ],
      "execution_count": 423,
      "outputs": [
        {
          "output_type": "execute_result",
          "data": {
            "text/plain": [
              "torch.Size([10000, 28, 28])"
            ]
          },
          "metadata": {
            "tags": []
          },
          "execution_count": 423
        }
      ]
    },
    {
      "cell_type": "code",
      "metadata": {
        "id": "10lwHFnKfFdj"
      },
      "source": [
        "train_loader = torch.utils.data.DataLoader(dataset1,**train_kwargs)\n",
        "test_loader = torch.utils.data.DataLoader(dataset2, **test_kwargs)\n",
        "\n",
        "model = Net().to(device)\n",
        "optimizer = optim.Adadelta(model.parameters(), lr=args['lr'])\n",
        "\n",
        "scheduler = StepLR(optimizer, step_size=1, gamma=args['gamma'])"
      ],
      "execution_count": 424,
      "outputs": []
    },
    {
      "cell_type": "code",
      "metadata": {
        "id": "Io9wJa03fvQY",
        "outputId": "b5c92157-1aea-41c4-8ef5-82e598fb7a6a",
        "colab": {
          "base_uri": "https://localhost:8080/"
        }
      },
      "source": [
        "for epoch in range(1, args['epochs'] + 1):\n",
        "    if epoch == 2:\n",
        "      break\n",
        "    train(args, model, device, train_loader, optimizer, epoch)\n",
        "    test(model, device, test_loader)\n",
        "    scheduler.step()\n",
        "    \n",
        "\n",
        "# if args['save_model']:\n",
        "#     torch.save(model.state_dict(), \"mnist_cnn.pt\")"
      ],
      "execution_count": 425,
      "outputs": [
        {
          "output_type": "stream",
          "text": [
            "Train Epoch: 1 [0/60000 (0%)]\tLoss: 2.311152\n",
            "Train Epoch: 1 [3200/60000 (5%)]\tLoss: 0.208529\n",
            "Train Epoch: 1 [6400/60000 (11%)]\tLoss: 0.232101\n",
            "Train Epoch: 1 [9600/60000 (16%)]\tLoss: 0.158483\n",
            "Train Epoch: 1 [12800/60000 (21%)]\tLoss: 0.156021\n",
            "Train Epoch: 1 [16000/60000 (27%)]\tLoss: 0.337393\n",
            "Train Epoch: 1 [19200/60000 (32%)]\tLoss: 0.213747\n",
            "Train Epoch: 1 [22400/60000 (37%)]\tLoss: 0.082443\n",
            "Train Epoch: 1 [25600/60000 (43%)]\tLoss: 0.076199\n",
            "Train Epoch: 1 [28800/60000 (48%)]\tLoss: 0.089883\n",
            "Train Epoch: 1 [32000/60000 (53%)]\tLoss: 0.110103\n",
            "Train Epoch: 1 [35200/60000 (59%)]\tLoss: 0.277865\n",
            "Train Epoch: 1 [38400/60000 (64%)]\tLoss: 0.101555\n",
            "Train Epoch: 1 [41600/60000 (69%)]\tLoss: 0.193174\n",
            "Train Epoch: 1 [44800/60000 (75%)]\tLoss: 0.172374\n",
            "Train Epoch: 1 [48000/60000 (80%)]\tLoss: 0.154327\n",
            "Train Epoch: 1 [51200/60000 (85%)]\tLoss: 0.105742\n",
            "Train Epoch: 1 [54400/60000 (91%)]\tLoss: 0.028043\n",
            "Train Epoch: 1 [57600/60000 (96%)]\tLoss: 0.138034\n",
            "\n",
            "Test set: Average loss: 0.0508, Accuracy: 9840/10000 (98%)\n",
            "\n"
          ],
          "name": "stdout"
        }
      ]
    },
    {
      "cell_type": "code",
      "metadata": {
        "id": "9KUoZtYKiqJu",
        "outputId": "de4b2079-ce65-4710-c6d9-cf1baec0dba2",
        "colab": {
          "base_uri": "https://localhost:8080/"
        }
      },
      "source": [
        "!ls"
      ],
      "execution_count": null,
      "outputs": [
        {
          "output_type": "stream",
          "text": [
            "models\tsample_data\n"
          ],
          "name": "stdout"
        }
      ]
    },
    {
      "cell_type": "code",
      "metadata": {
        "id": "R2r213fLlpzm",
        "outputId": "ec97ee66-3944-4d0b-d288-3165849050c0",
        "colab": {
          "base_uri": "https://localhost:8080/"
        }
      },
      "source": [
        "model1 = Net().to(device)\n",
        "model1.load_state_dict(torch.load(\"./models/mnist_cnn_step500.pth\"))"
      ],
      "execution_count": 449,
      "outputs": [
        {
          "output_type": "execute_result",
          "data": {
            "text/plain": [
              "<All keys matched successfully>"
            ]
          },
          "metadata": {
            "tags": []
          },
          "execution_count": 449
        }
      ]
    },
    {
      "cell_type": "code",
      "metadata": {
        "id": "MK8VbG-hl3Z_"
      },
      "source": [
        "def manual_transform(np_data):\n",
        "  # transforms.Normalize((0.1307,), (0.3081,))\n",
        "  np_data /= 255\n",
        "  np_data = (np_data - 0.1307)/0.3081\n",
        "  return np_data\n",
        "fmnist_test_data = manual_transform(dataset3.data.float().reshape((-1, 1, 28, 28))).cuda()\n",
        "mnist_test_data = manual_transform(dataset2.data.float().reshape((-1, 1, 28, 28))).cuda()\n"
      ],
      "execution_count": 450,
      "outputs": []
    },
    {
      "cell_type": "code",
      "metadata": {
        "id": "VakD4995tDch"
      },
      "source": [
        "with torch.no_grad():\n",
        "  mnist_feats = model1.feature_list(mnist_test_data[:1000])[-1].detach().cpu().numpy()\n",
        "  fmnist_feats = model1.feature_list(fmnist_test_data[:1000])[-1].detach().cpu().numpy()"
      ],
      "execution_count": 451,
      "outputs": []
    },
    {
      "cell_type": "code",
      "metadata": {
        "id": "0zHgKVQpv94L",
        "outputId": "cfcd6cab-0ddd-4531-db3a-7bd6d216d3a2",
        "colab": {
          "base_uri": "https://localhost:8080/"
        }
      },
      "source": [
        "from sklearn.decomposition import PCA\n",
        "pca = PCA(n_components=2)\n",
        "pca.fit(mnist_feats)"
      ],
      "execution_count": 452,
      "outputs": [
        {
          "output_type": "execute_result",
          "data": {
            "text/plain": [
              "PCA(copy=True, iterated_power='auto', n_components=2, random_state=None,\n",
              "    svd_solver='auto', tol=0.0, whiten=False)"
            ]
          },
          "metadata": {
            "tags": []
          },
          "execution_count": 452
        }
      ]
    },
    {
      "cell_type": "code",
      "metadata": {
        "id": "vNWVxprKv97s"
      },
      "source": [
        "fmnist_pca = pca.transform(fmnist_feats)\n",
        "mnist_pca = pca.transform(mnist_feats)"
      ],
      "execution_count": 453,
      "outputs": []
    },
    {
      "cell_type": "code",
      "metadata": {
        "id": "hHv_anIIv99x",
        "outputId": "edf84a96-a3f6-42fc-e1eb-647d43564eb5",
        "colab": {
          "base_uri": "https://localhost:8080/",
          "height": 285
        }
      },
      "source": [
        "plt.scatter(fmnist_pca[:,0], fmnist_pca[:, 1], s=1)\n",
        "plt.scatter(mnist_pca[:,0], mnist_pca[:, 1], s=1)\n",
        "plt.legend(['FMNIST', 'MNIST'])\n",
        "# plt.savefig('./plots/epoch9_feats.pdf')"
      ],
      "execution_count": 454,
      "outputs": [
        {
          "output_type": "execute_result",
          "data": {
            "text/plain": [
              "<matplotlib.legend.Legend at 0x7f90a15228d0>"
            ]
          },
          "metadata": {
            "tags": []
          },
          "execution_count": 454
        },
        {
          "output_type": "display_data",
          "data": {
            "image/png": "[encoded data removed]",
            "text/plain": [
              "<Figure size 432x288 with 1 Axes>"
            ]
          },
          "metadata": {
            "tags": []
          }
        }
      ]
    },
    {
      "cell_type": "code",
      "metadata": {
        "id": "9WupoAV6v-CK"
      },
      "source": [
        ""
      ],
      "execution_count": 454,
      "outputs": []
    },
    {
      "cell_type": "code",
      "metadata": {
        "id": "6p-AlGIJyk5o"
      },
      "source": [
        "train_kwargs = {'batch_size': 1}\n",
        "test_kwargs = {'batch_size': 1}\n",
        "train_loader = torch.utils.data.DataLoader(dataset1, **train_kwargs)\n",
        "test_loader = torch.utils.data.DataLoader(dataset2, **test_kwargs)\n",
        "ftest_loader = torch.utils.data.DataLoader(dataset3, **test_kwargs)"
      ],
      "execution_count": 455,
      "outputs": []
    },
    {
      "cell_type": "code",
      "metadata": {
        "id": "JdwFG4qT9XMJ"
      },
      "source": [
        "from tqdm import tqdm"
      ],
      "execution_count": 456,
      "outputs": []
    },
    {
      "cell_type": "code",
      "metadata": {
        "id": "A6Iz6jVuDYRi"
      },
      "source": [
        "train_grad_list = []\n",
        "for batch_idx, (data, target) in enumerate(train_loader):\n",
        "    if batch_idx == 1000:\n",
        "       break\n",
        "    data, target = data.to(device), target.to(device)\n",
        "    output = model(data)\n",
        "    loss = F.cross_entropy(output, target)\n",
        "    grads = torch.autograd.grad(loss, model.parameters(), retain_graph = True) # extract NN gradients\n",
        "    train_grad_list.append(grads)"
      ],
      "execution_count": 457,
      "outputs": []
    },
    {
      "cell_type": "code",
      "metadata": {
        "id": "n5O9jOdJ46F1",
        "outputId": "a410a3d0-cdd5-45d5-ead4-d735cd62ec3f",
        "colab": {
          "base_uri": "https://localhost:8080/"
        }
      },
      "source": [
        "train_num = 100\n",
        "M_testvtrain = torch.zeros((10, 100, train_num))\n",
        "for d in tqdm(range(10)):\n",
        "  for i, (data, target) in enumerate(test_loader):\n",
        "      if i == 100:\n",
        "        break\n",
        "      data, target = data.to(device), target.to(device)\n",
        "      output = model(data)\n",
        "      loss = F.cross_entropy(output, target)\n",
        "      # grads = torch.autograd.grad(loss, model.parameters(), retain_graph = True) # extract NN gradients\n",
        "      grads = torch.autograd.grad(output[0][d], model.parameters(), retain_graph = True) # extract NN gradients\n",
        "      for j in range(train_num):\n",
        "        pt_grad = train_grad_list[j]\n",
        "        M_testvtrain[d, i, j] = sum([torch.sum(torch.mul(grads[u], pt_grad[u])) for u in range(len(grads))])\n",
        "M_test = M_testvtrain.sum(dim=2) # sum all the training data, get 1*1 result for each test data point.\n",
        "torch.save(M_test, './results/M_test')\n"
      ],
      "execution_count": 458,
      "outputs": [
        {
          "output_type": "stream",
          "text": [
            "\n",
            "\n",
            "\n",
            "\n",
            "\n",
            "\n",
            "\n",
            "\n",
            "\n",
            "\n",
            "\n",
            "\n",
            "  0%|          | 0/10 [00:00<?, ?it/s]\u001b[A\u001b[A\u001b[A\u001b[A\u001b[A\u001b[A\u001b[A\u001b[A\u001b[A\u001b[A\u001b[A\u001b[A\n",
            "\n",
            "\n",
            "\n",
            "\n",
            "\n",
            "\n",
            "\n",
            "\n",
            "\n",
            "\n",
            "\n",
            " 10%|█         | 1/10 [00:02<00:26,  2.98s/it]\u001b[A\u001b[A\u001b[A\u001b[A\u001b[A\u001b[A\u001b[A\u001b[A\u001b[A\u001b[A\u001b[A\u001b[A\n",
            "\n",
            "\n",
            "\n",
            "\n",
            "\n",
            "\n",
            "\n",
            "\n",
            "\n",
            "\n",
            "\n",
            " 20%|██        | 2/10 [00:06<00:24,  3.04s/it]\u001b[A\u001b[A\u001b[A\u001b[A\u001b[A\u001b[A\u001b[A\u001b[A\u001b[A\u001b[A\u001b[A\u001b[A\n",
            "\n",
            "\n",
            "\n",
            "\n",
            "\n",
            "\n",
            "\n",
            "\n",
            "\n",
            "\n",
            "\n",
            " 30%|███       | 3/10 [00:09<00:21,  3.12s/it]\u001b[A\u001b[A\u001b[A\u001b[A\u001b[A\u001b[A\u001b[A\u001b[A\u001b[A\u001b[A\u001b[A\u001b[A\n",
            "\n",
            "\n",
            "\n",
            "\n",
            "\n",
            "\n",
            "\n",
            "\n",
            "\n",
            "\n",
            "\n",
            " 40%|████      | 4/10 [00:12<00:18,  3.16s/it]\u001b[A\u001b[A\u001b[A\u001b[A\u001b[A\u001b[A\u001b[A\u001b[A\u001b[A\u001b[A\u001b[A\u001b[A\n",
            "\n",
            "\n",
            "\n",
            "\n",
            "\n",
            "\n",
            "\n",
            "\n",
            "\n",
            "\n",
            "\n",
            " 50%|█████     | 5/10 [00:15<00:15,  3.08s/it]\u001b[A\u001b[A\u001b[A\u001b[A\u001b[A\u001b[A\u001b[A\u001b[A\u001b[A\u001b[A\u001b[A\u001b[A\n",
            "\n",
            "\n",
            "\n",
            "\n",
            "\n",
            "\n",
            "\n",
            "\n",
            "\n",
            "\n",
            "\n",
            " 60%|██████    | 6/10 [00:18<00:12,  3.13s/it]\u001b[A\u001b[A\u001b[A\u001b[A\u001b[A\u001b[A\u001b[A\u001b[A\u001b[A\u001b[A\u001b[A\u001b[A\n",
            "\n",
            "\n",
            "\n",
            "\n",
            "\n",
            "\n",
            "\n",
            "\n",
            "\n",
            "\n",
            "\n",
            " 70%|███████   | 7/10 [00:22<00:09,  3.22s/it]\u001b[A\u001b[A\u001b[A\u001b[A\u001b[A\u001b[A\u001b[A\u001b[A\u001b[A\u001b[A\u001b[A\u001b[A\n",
            "\n",
            "\n",
            "\n",
            "\n",
            "\n",
            "\n",
            "\n",
            "\n",
            "\n",
            "\n",
            "\n",
            " 80%|████████  | 8/10 [00:25<00:06,  3.17s/it]\u001b[A\u001b[A\u001b[A\u001b[A\u001b[A\u001b[A\u001b[A\u001b[A\u001b[A\u001b[A\u001b[A\u001b[A\n",
            "\n",
            "\n",
            "\n",
            "\n",
            "\n",
            "\n",
            "\n",
            "\n",
            "\n",
            "\n",
            "\n",
            " 90%|█████████ | 9/10 [00:28<00:03,  3.13s/it]\u001b[A\u001b[A\u001b[A\u001b[A\u001b[A\u001b[A\u001b[A\u001b[A\u001b[A\u001b[A\u001b[A\u001b[A\n",
            "\n",
            "\n",
            "\n",
            "\n",
            "\n",
            "\n",
            "\n",
            "\n",
            "\n",
            "\n",
            "\n",
            "100%|██████████| 10/10 [00:31<00:00,  3.14s/it]\n"
          ],
          "name": "stderr"
        }
      ]
    },
    {
      "cell_type": "code",
      "metadata": {
        "id": "tG-97yg9-nfp"
      },
      "source": [
        "# M_testvtrain0 = M_testvtrain0.sum(dim=1) # sum all the training data, get 1*1 result for each test data point."
      ],
      "execution_count": 459,
      "outputs": []
    },
    {
      "cell_type": "code",
      "metadata": {
        "id": "lk6qlnkq_Qu1"
      },
      "source": [
        "# M_testvtrain0.shape"
      ],
      "execution_count": 460,
      "outputs": []
    },
    {
      "cell_type": "code",
      "metadata": {
        "id": "4H_bDHlN-roK",
        "outputId": "904ac08f-122d-45fe-84f5-40a100152b60",
        "colab": {
          "base_uri": "https://localhost:8080/"
        }
      },
      "source": [
        "F_testvtrain = torch.zeros((10, 100, train_num))\n",
        "for d in tqdm(range(10)):\n",
        "  for i, (data, target) in enumerate(ftest_loader):\n",
        "      if i == 100:\n",
        "        break\n",
        "      data = torch.rand((1, 1, 28, 28))\n",
        "      data, target = data.to(device), target.to(device)\n",
        "      output = model(data)\n",
        "      loss = F.cross_entropy(output, target)\n",
        "      # grads = torch.autograd.grad(loss, model.parameters(), retain_graph = True) # extract NN gradients\n",
        "      grads = torch.autograd.grad(output[0][d], model.parameters(), retain_graph = True) # extract NN gradients\n",
        "      for j in range(train_num):\n",
        "        pt_grad = train_grad_list[j]\n",
        "        F_testvtrain[d, i, j] = sum([torch.sum(torch.mul(grads[u], pt_grad[u])) for u in range(len(grads))])\n",
        "F_test = F_testvtrain.sum(dim=2)\n",
        "# torch.save(F_test, './results/F_test')"
      ],
      "execution_count": 476,
      "outputs": [
        {
          "output_type": "stream",
          "text": [
            "\n",
            "\n",
            "\n",
            "\n",
            "\n",
            "\n",
            "\n",
            "\n",
            "\n",
            "\n",
            "\n",
            "\n",
            "\n",
            "  0%|          | 0/10 [00:00<?, ?it/s]\u001b[A\u001b[A\u001b[A\u001b[A\u001b[A\u001b[A\u001b[A\u001b[A\u001b[A\u001b[A\u001b[A\u001b[A\u001b[A\n",
            "\n",
            "\n",
            "\n",
            "\n",
            "\n",
            "\n",
            "\n",
            "\n",
            "\n",
            "\n",
            "\n",
            "\n",
            " 10%|█         | 1/10 [00:02<00:26,  2.90s/it]\u001b[A\u001b[A\u001b[A\u001b[A\u001b[A\u001b[A\u001b[A\u001b[A\u001b[A\u001b[A\u001b[A\u001b[A\u001b[A\n",
            "\n",
            "\n",
            "\n",
            "\n",
            "\n",
            "\n",
            "\n",
            "\n",
            "\n",
            "\n",
            "\n",
            "\n",
            " 20%|██        | 2/10 [00:05<00:23,  2.93s/it]\u001b[A\u001b[A\u001b[A\u001b[A\u001b[A\u001b[A\u001b[A\u001b[A\u001b[A\u001b[A\u001b[A\u001b[A\u001b[A\n",
            "\n",
            "\n",
            "\n",
            "\n",
            "\n",
            "\n",
            "\n",
            "\n",
            "\n",
            "\n",
            "\n",
            "\n",
            " 30%|███       | 3/10 [00:08<00:20,  2.94s/it]\u001b[A\u001b[A\u001b[A\u001b[A\u001b[A\u001b[A\u001b[A\u001b[A\u001b[A\u001b[A\u001b[A\u001b[A\u001b[A\n",
            "\n",
            "\n",
            "\n",
            "\n",
            "\n",
            "\n",
            "\n",
            "\n",
            "\n",
            "\n",
            "\n",
            "\n",
            " 40%|████      | 4/10 [00:11<00:17,  2.92s/it]\u001b[A\u001b[A\u001b[A\u001b[A\u001b[A\u001b[A\u001b[A\u001b[A\u001b[A\u001b[A\u001b[A\u001b[A\u001b[A\n",
            "\n",
            "\n",
            "\n",
            "\n",
            "\n",
            "\n",
            "\n",
            "\n",
            "\n",
            "\n",
            "\n",
            "\n",
            " 50%|█████     | 5/10 [00:14<00:14,  2.97s/it]\u001b[A\u001b[A\u001b[A\u001b[A\u001b[A\u001b[A\u001b[A\u001b[A\u001b[A\u001b[A\u001b[A\u001b[A\u001b[A\n",
            "\n",
            "\n",
            "\n",
            "\n",
            "\n",
            "\n",
            "\n",
            "\n",
            "\n",
            "\n",
            "\n",
            "\n",
            " 60%|██████    | 6/10 [00:17<00:11,  2.95s/it]\u001b[A\u001b[A\u001b[A\u001b[A\u001b[A\u001b[A\u001b[A\u001b[A\u001b[A\u001b[A\u001b[A\u001b[A\u001b[A\n",
            "\n",
            "\n",
            "\n",
            "\n",
            "\n",
            "\n",
            "\n",
            "\n",
            "\n",
            "\n",
            "\n",
            "\n",
            " 70%|███████   | 7/10 [00:20<00:08,  2.93s/it]\u001b[A\u001b[A\u001b[A\u001b[A\u001b[A\u001b[A\u001b[A\u001b[A\u001b[A\u001b[A\u001b[A\u001b[A\u001b[A\n",
            "\n",
            "\n",
            "\n",
            "\n",
            "\n",
            "\n",
            "\n",
            "\n",
            "\n",
            "\n",
            "\n",
            "\n",
            " 80%|████████  | 8/10 [00:23<00:05,  2.97s/it]\u001b[A\u001b[A\u001b[A\u001b[A\u001b[A\u001b[A\u001b[A\u001b[A\u001b[A\u001b[A\u001b[A\u001b[A\u001b[A\n",
            "\n",
            "\n",
            "\n",
            "\n",
            "\n",
            "\n",
            "\n",
            "\n",
            "\n",
            "\n",
            "\n",
            "\n",
            " 90%|█████████ | 9/10 [00:26<00:02,  2.96s/it]\u001b[A\u001b[A\u001b[A\u001b[A\u001b[A\u001b[A\u001b[A\u001b[A\u001b[A\u001b[A\u001b[A\u001b[A\u001b[A\n",
            "\n",
            "\n",
            "\n",
            "\n",
            "\n",
            "\n",
            "\n",
            "\n",
            "\n",
            "\n",
            "\n",
            "\n",
            "100%|██████████| 10/10 [00:29<00:00,  2.95s/it]\n"
          ],
          "name": "stderr"
        }
      ]
    },
    {
      "cell_type": "code",
      "metadata": {
        "id": "f2qaxsps-rqk"
      },
      "source": [
        "# F_testvtrain0 = F_testvtrain0.sum(dim=1) # sum all the training data, get 1*1 result for each test data point.\n",
        "# F_test = F_testvtrain.sum(dim=2)\n",
        "# torch.save(F_test, './results/F_test')"
      ],
      "execution_count": 462,
      "outputs": []
    },
    {
      "cell_type": "code",
      "metadata": {
        "id": "k95P02hhgBFX",
        "outputId": "819e6b4f-2eb3-428a-8eb9-f424b829c05a",
        "colab": {
          "base_uri": "https://localhost:8080/"
        }
      },
      "source": [
        "M_test.mean()"
      ],
      "execution_count": 463,
      "outputs": [
        {
          "output_type": "execute_result",
          "data": {
            "text/plain": [
              "tensor(-49.9300)"
            ]
          },
          "metadata": {
            "tags": []
          },
          "execution_count": 463
        }
      ]
    },
    {
      "cell_type": "code",
      "metadata": {
        "id": "rZiuvSEPBD7k",
        "outputId": "1a244671-a26c-4aeb-b3c3-eaa3c32fb76b",
        "colab": {
          "base_uri": "https://localhost:8080/"
        }
      },
      "source": [
        "F_test.mean()"
      ],
      "execution_count": 464,
      "outputs": [
        {
          "output_type": "execute_result",
          "data": {
            "text/plain": [
              "tensor(-49.1501)"
            ]
          },
          "metadata": {
            "tags": []
          },
          "execution_count": 464
        }
      ]
    },
    {
      "cell_type": "code",
      "metadata": {
        "id": "Nttrvmo1BJ9k",
        "outputId": "d23e1a53-37f2-4fb1-d097-763d3204de53",
        "colab": {
          "base_uri": "https://localhost:8080/"
        }
      },
      "source": [
        "M_test.std()"
      ],
      "execution_count": 465,
      "outputs": [
        {
          "output_type": "execute_result",
          "data": {
            "text/plain": [
              "tensor(131.6106)"
            ]
          },
          "metadata": {
            "tags": []
          },
          "execution_count": 465
        }
      ]
    },
    {
      "cell_type": "code",
      "metadata": {
        "id": "bSsAsXNFBcEW",
        "outputId": "bc9de21d-56e9-4e3f-ecfb-b4f86929d014",
        "colab": {
          "base_uri": "https://localhost:8080/"
        }
      },
      "source": [
        "F_test.std()"
      ],
      "execution_count": 466,
      "outputs": [
        {
          "output_type": "execute_result",
          "data": {
            "text/plain": [
              "tensor(95.6422)"
            ]
          },
          "metadata": {
            "tags": []
          },
          "execution_count": 466
        }
      ]
    },
    {
      "cell_type": "code",
      "metadata": {
        "id": "9M2tb4gHEgf7"
      },
      "source": [
        "M_test_norm = M_test.norm(dim=0, p=1)\n",
        "F_test_norm = F_test.norm(dim=0, p=1)"
      ],
      "execution_count": 467,
      "outputs": []
    },
    {
      "cell_type": "code",
      "metadata": {
        "id": "-ewheWhBEgie",
        "outputId": "c02ac5d7-2900-4ac5-ec98-24d2fb27e2ca",
        "colab": {
          "base_uri": "https://localhost:8080/"
        }
      },
      "source": [
        "M_test_norm.mean()"
      ],
      "execution_count": 468,
      "outputs": [
        {
          "output_type": "execute_result",
          "data": {
            "text/plain": [
              "tensor(1029.5476)"
            ]
          },
          "metadata": {
            "tags": []
          },
          "execution_count": 468
        }
      ]
    },
    {
      "cell_type": "code",
      "metadata": {
        "id": "bdorGAgnEoIJ",
        "outputId": "cb840d0c-579f-4ec7-a1f4-fc917d09a207",
        "colab": {
          "base_uri": "https://localhost:8080/"
        }
      },
      "source": [
        "F_test_norm.mean()"
      ],
      "execution_count": 469,
      "outputs": [
        {
          "output_type": "execute_result",
          "data": {
            "text/plain": [
              "tensor(803.5161)"
            ]
          },
          "metadata": {
            "tags": []
          },
          "execution_count": 469
        }
      ]
    },
    {
      "cell_type": "code",
      "metadata": {
        "id": "NctP-OG9EoKJ",
        "outputId": "c8626ff9-abb0-4807-a4f5-e835e8ada0ce",
        "colab": {
          "base_uri": "https://localhost:8080/"
        }
      },
      "source": [
        "M_test_norm.std()"
      ],
      "execution_count": 470,
      "outputs": [
        {
          "output_type": "execute_result",
          "data": {
            "text/plain": [
              "tensor(498.6613)"
            ]
          },
          "metadata": {
            "tags": []
          },
          "execution_count": 470
        }
      ]
    },
    {
      "cell_type": "code",
      "metadata": {
        "id": "smyZvcldEoMb",
        "outputId": "9b54a0a3-97ca-490d-df12-9eb85e5647d8",
        "colab": {
          "base_uri": "https://localhost:8080/"
        }
      },
      "source": [
        "F_test_norm.std()"
      ],
      "execution_count": 471,
      "outputs": [
        {
          "output_type": "execute_result",
          "data": {
            "text/plain": [
              "tensor(440.6486)"
            ]
          },
          "metadata": {
            "tags": []
          },
          "execution_count": 471
        }
      ]
    },
    {
      "cell_type": "code",
      "metadata": {
        "id": "vVl1-6jHCFhS",
        "outputId": "11b6eb09-b090-4ce6-ec70-6d164e4bae46",
        "colab": {
          "base_uri": "https://localhost:8080/",
          "height": 287
        }
      },
      "source": [
        "plt.hist(M_test_norm)\n",
        "plt.hist(F_test_norm)\n",
        "plt.legend(['MNIST', 'FMNIST'])"
      ],
      "execution_count": 472,
      "outputs": [
        {
          "output_type": "execute_result",
          "data": {
            "text/plain": [
              "<matplotlib.legend.Legend at 0x7f90a14a6198>"
            ]
          },
          "metadata": {
            "tags": []
          },
          "execution_count": 472
        },
        {
          "output_type": "display_data",
          "data": {
            "image/png": "[encoded data removed]",
            "text/plain": [
              "<Figure size 432x288 with 1 Axes>"
            ]
          },
          "metadata": {
            "tags": []
          }
        }
      ]
    },
    {
      "cell_type": "code",
      "metadata": {
        "id": "3Ct2pjufJuoh"
      },
      "source": [
        ""
      ],
      "execution_count": 448,
      "outputs": []
    },
    {
      "cell_type": "code",
      "metadata": {
        "id": "FpE7oe0LChsM"
      },
      "source": [
        "M_testvtrain_loss = torch.zeros((100, 100))\n",
        "for i, (data, target) in enumerate(test_loader):\n",
        "      if i == 100:\n",
        "        break\n",
        "      data, target = data.to(device), target.to(device)\n",
        "      output = model(data)\n",
        "      loss = F.cross_entropy(output, target)\n",
        "      grads = torch.autograd.grad(loss, model.parameters(), retain_graph = True) # extract NN gradients\n",
        "      # grads = torch.autograd.grad(output[0][d], model.parameters(), retain_graph = True) # extract NN gradients\n",
        "      for j in range(100):\n",
        "        pt_grad = train_grad_list[j]\n",
        "        M_testvtrain_loss[i, j] = sum([torch.sum(torch.mul(grads[u], pt_grad[u])) for u in range(len(grads))])\n",
        "M_test_l = M_testvtrain_loss.sum(dim=1) # sum all the training data, get 1*1 result for each test data point.\n",
        "torch.save(M_test_l, './results/M_test_l')"
      ],
      "execution_count": 395,
      "outputs": []
    },
    {
      "cell_type": "code",
      "metadata": {
        "id": "K7va9C9-FRHl"
      },
      "source": [
        "F_testvtrain_loss = torch.zeros((100, 100))\n",
        "for i, (data, target) in enumerate(ftest_loader):\n",
        "      if i == 100:\n",
        "        break\n",
        "      data, target = data.to(device), target.to(device)\n",
        "      output = model(data)\n",
        "      loss = F.cross_entropy(output, target)\n",
        "      grads = torch.autograd.grad(loss, model.parameters(), retain_graph = True) # extract NN gradients\n",
        "      # grads = torch.autograd.grad(output[0][d], model.parameters(), retain_graph = True) # extract NN gradients\n",
        "      for j in range(100):\n",
        "        pt_grad = train_grad_list[j]\n",
        "        F_testvtrain_loss[i, j] = sum([torch.sum(torch.mul(grads[u], pt_grad[u])) for u in range(len(grads))])\n",
        "F_test_l = F_testvtrain_loss.sum(dim=1) # sum all the training data, get 1*1 result for each test data point.\n",
        "torch.save(F_test_l, './results/F_test_l')"
      ],
      "execution_count": 376,
      "outputs": []
    },
    {
      "cell_type": "code",
      "metadata": {
        "id": "874qp9WMFZ2g",
        "outputId": "ffefcfe9-3f5b-4284-d76d-60b1e1ec4355",
        "colab": {
          "base_uri": "https://localhost:8080/",
          "height": 287
        }
      },
      "source": [
        "plt.hist(M_test_l)\n",
        "plt.hist(F_test_l)\n",
        "plt.legend(['MNIST', 'FMNIST'])"
      ],
      "execution_count": 377,
      "outputs": [
        {
          "output_type": "execute_result",
          "data": {
            "text/plain": [
              "<matplotlib.legend.Legend at 0x7f90a1a94cf8>"
            ]
          },
          "metadata": {
            "tags": []
          },
          "execution_count": 377
        },
        {
          "output_type": "display_data",
          "data": {
            "image/png": "[encoded data removed]",
            "text/plain": [
              "<Figure size 432x288 with 1 Axes>"
            ]
          },
          "metadata": {
            "tags": []
          }
        }
      ]
    },
    {
      "cell_type": "code",
      "metadata": {
        "id": "zcJSiOfJFgQ6",
        "outputId": "6b1a3185-f154-4260-d71c-643407ee0299",
        "colab": {
          "base_uri": "https://localhost:8080/"
        }
      },
      "source": [
        "M_test_l"
      ],
      "execution_count": 378,
      "outputs": [
        {
          "output_type": "execute_result",
          "data": {
            "text/plain": [
              "tensor([-1.0552e-05, -3.1789e-02,  4.3957e-04, -1.0711e-02, -1.1098e-02,\n",
              "         2.3596e-04, -3.7610e-02,  4.5247e+00, -1.8947e+00,  1.0049e-01,\n",
              "        -3.2109e-03, -5.8095e-04,  2.6089e-02, -4.5048e-04,  2.2567e-04,\n",
              "        -2.7807e-02,  4.0035e-02, -4.6064e-05,  3.8473e+00, -4.9435e-03,\n",
              "         3.4693e-01,  2.0308e-01, -1.2748e-02, -7.3925e-03, -3.6336e-01,\n",
              "        -9.4958e-03, -1.5129e-01, -2.6902e-04, -9.5175e-03, -4.0227e-03,\n",
              "        -3.4635e-03, -8.9643e-02,  1.7424e-03, -2.4735e-01,  3.3780e-05,\n",
              "        -1.5351e-03,  1.6614e-02, -1.6886e-03, -2.4970e-01,  2.2252e-04,\n",
              "         4.1099e-03, -5.7268e-02, -1.3634e+00, -5.4772e-01,  4.4590e-02,\n",
              "        -1.3489e-02, -1.7130e-01, -5.3028e-05, -6.5378e-02, -2.4125e-02,\n",
              "         2.6150e-02, -4.2433e-03, -1.8259e-03, -1.9475e-02,  1.1270e-01,\n",
              "         2.7639e-04, -2.7364e-05,  4.6898e-04,  4.5780e-03, -1.0397e+01,\n",
              "        -3.9775e-03, -3.8726e-03,  1.6060e+02,  9.2269e-03,  1.2915e-04,\n",
              "        -5.4726e+00, -4.2980e-02, -5.0673e-02, -6.0968e-03, -7.0882e-03,\n",
              "        -3.5490e-04, -9.2334e-04, -2.7635e-01,  7.1871e+01, -1.4694e-03,\n",
              "        -4.8049e-04,  1.4029e-02, -3.9482e-02,  9.1543e+00, -7.5074e-02,\n",
              "        -1.1122e+00,  5.6896e-03, -1.8383e-05, -6.1113e-03, -2.3171e-02,\n",
              "        -2.9533e-03, -7.5760e-03, -9.5101e-01, -7.7341e-05,  1.6129e-03,\n",
              "         2.2272e-03,  6.2277e-05,  9.8663e+01, -1.6755e+00,  3.0526e-02,\n",
              "        -9.0908e-01,  6.8934e-01,  1.1261e-01,  3.4048e-02,  3.1006e-03])"
            ]
          },
          "metadata": {
            "tags": []
          },
          "execution_count": 378
        }
      ]
    },
    {
      "cell_type": "code",
      "metadata": {
        "id": "l0QovCC9IFfS"
      },
      "source": [
        ""
      ],
      "execution_count": 378,
      "outputs": []
    }
  ]
}